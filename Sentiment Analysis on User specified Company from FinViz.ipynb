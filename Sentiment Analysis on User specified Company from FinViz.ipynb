{
 "cells": [
  {
   "cell_type": "code",
   "execution_count": 1,
   "metadata": {},
   "outputs": [],
   "source": [
    "# Import libraries\n",
    "from urllib.request import urlopen, Request\n",
    "from bs4 import BeautifulSoup\n",
    "import os\n",
    "import pandas as pd\n",
    "pd.set_option('display.max_colwidth',1000)\n",
    "import matplotlib.pyplot as plt\n",
    "%matplotlib inline\n",
    "# NLTK VADER for sentiment analysis\n",
    "from nltk.sentiment.vader import SentimentIntensityAnalyzer\n",
    "\n",
    "from html_table_parser.parser import HTMLTableParser"
   ]
  },
  {
   "cell_type": "code",
   "execution_count": 2,
   "metadata": {},
   "outputs": [],
   "source": [
    "finwiz_url = 'https://finviz.com/quote.ashx?t='\n",
    "finwiz_search_url = 'https://finviz.com/search.ashx?p='"
   ]
  },
  {
   "cell_type": "markdown",
   "metadata": {},
   "source": [
    "# Search for the company's ticker"
   ]
  },
  {
   "cell_type": "markdown",
   "metadata": {},
   "source": [
    "- give options for the user to input company name or ticker\n",
    "- try to make the df returned as an input selector"
   ]
  },
  {
   "cell_type": "code",
   "execution_count": 3,
   "metadata": {},
   "outputs": [
    {
     "name": "stdout",
     "output_type": "stream",
     "text": [
      "===============================================================\n",
      "Enter company name: goldman\n",
      "https://finviz.com/search.ashx?p=GOLDMAN\n",
      "===============================================================\n",
      "===============================================================\n",
      "Search Results for goldman:\n",
      "\n",
      "   Ticker                                               Description\n",
      "1    AAAU                           Goldman Sachs Physical Gold ETF\n",
      "2    GBIL                Goldman Sachs Access Treasury 0-1 Year ETF\n",
      "3    GCOR              Goldman Sachs Access U.S. Aggregate Bond ETF\n",
      "4     GEM      Goldman Sachs ActiveBeta Emerging Markets Equity ETF\n",
      "5     GER             Goldman Sachs MLP and Energy Renaissance Fund\n",
      "6    GHYB        Goldman Sachs Access High Yield Corporate Bond ETF\n",
      "7    GIGB  Goldman Sachs Access Investment Grade Corporate Bond ETF\n",
      "8    GINN                         Goldman Sachs Innovate Equity ETF\n",
      "9      GS                             The Goldman Sachs Group, Inc.\n",
      "10   GSBD                                   Goldman Sachs BDC, Inc.\n",
      "11   GSEU                Goldman Sachs ActiveBeta Europe Equity ETF\n",
      "12   GSEW      Goldman Sachs Equal Weight U.S. Large Cap Equity ETF\n",
      "13   GSIE         Goldman Sachs ActiveBeta International Equity ETF\n",
      "14   GSJY                 Goldman Sachs ActiveBeta Japan Equity ETF\n",
      "15   GSLC        Goldman Sachs ActiveBeta U.S. Large Cap Equity ETF\n",
      "16   GSSC        Goldman Sachs ActiveBeta U.S. Small Cap Equity ETF\n",
      "17   GSST                 Goldman Sachs Access Ultra Short Bond ETF\n",
      "18   GTIP     Goldman Sachs Access Inflation Protected USD Bond ETF\n",
      "19   GVIP                      Goldman Sachs Hedge Industry VIP ETF\n",
      "20   JUST              Goldman Sachs JUST U.S. Large Cap Equity ETF\n",
      "===============================================================\n",
      "===============================================================\n",
      "Find company ticker\n",
      "===============================================================\n"
     ]
    }
   ],
   "source": [
    "print('===============================================================')\n",
    "search_term=str(input(\"Enter company name: \"))#'goldman'\n",
    "search_url=finwiz_search_url+search_term.upper()\n",
    "print(search_url)\n",
    "print('===============================================================')\n",
    "\n",
    "req = Request(url=search_url,headers={'user-agent': 'my-app/0.0.1'})\n",
    "f = urlopen(req)\n",
    "xhtml = f.read().decode('utf-8')\n",
    "\n",
    "p = HTMLTableParser()\n",
    "p.feed(xhtml)\n",
    "df=pd.DataFrame(p.tables[5])\n",
    "df=df.rename(columns=df.iloc[0])[1:][['Ticker','Description']]\n",
    "print('===============================================================')\n",
    "print(\"Search Results for {}:\\n\".format(search_term))\n",
    "print(df)\n",
    "print('===============================================================')\n",
    "print('===============================================================')\n",
    "print(\"Find company ticker\")\n",
    "print('===============================================================')"
   ]
  },
  {
   "cell_type": "code",
   "execution_count": 4,
   "metadata": {},
   "outputs": [
    {
     "name": "stdout",
     "output_type": "stream",
     "text": [
      "===============================================================\n",
      "Enter company ticker: just\n",
      "===============================================================\n"
     ]
    }
   ],
   "source": [
    "tickers=[]\n",
    "print('===============================================================')\n",
    "ticker=str(input(\"Enter company ticker: \")).upper()\n",
    "print('===============================================================')\n",
    "tickers.append(ticker)"
   ]
  },
  {
   "cell_type": "markdown",
   "metadata": {},
   "source": [
    "# Start Sentiment Analysis"
   ]
  },
  {
   "cell_type": "code",
   "execution_count": 5,
   "metadata": {},
   "outputs": [],
   "source": [
    "news_tables = {}\n",
    "\n",
    "for ticker in tickers:\n",
    "    url = finwiz_url + ticker\n",
    "#     print(url)\n",
    "    req = Request(url=url,headers={'user-agent': 'my-app/0.0.1'}) \n",
    "    response = urlopen(req)    \n",
    "    # Read the contents of the file into 'html'\n",
    "    html = BeautifulSoup(response)\n",
    "    # Find 'news-table' in the Soup and load it into 'news_table'\n",
    "    news_table = html.find(id='news-table')\n",
    "    # Add the table to our dictionary\n",
    "    if news_table:\n",
    "        news_tables[ticker] = news_table\n",
    "    else:\n",
    "        print('No Headlines')"
   ]
  },
  {
   "cell_type": "code",
   "execution_count": 18,
   "metadata": {},
   "outputs": [
    {
     "data": {
      "text/html": [
       "<div>\n",
       "<style scoped>\n",
       "    .dataframe tbody tr th:only-of-type {\n",
       "        vertical-align: middle;\n",
       "    }\n",
       "\n",
       "    .dataframe tbody tr th {\n",
       "        vertical-align: top;\n",
       "    }\n",
       "\n",
       "    .dataframe thead th {\n",
       "        text-align: right;\n",
       "    }\n",
       "</style>\n",
       "<table border=\"1\" class=\"dataframe\">\n",
       "  <thead>\n",
       "    <tr style=\"text-align: right;\">\n",
       "      <th></th>\n",
       "      <th>ticker</th>\n",
       "      <th>date</th>\n",
       "      <th>time</th>\n",
       "      <th>headline</th>\n",
       "    </tr>\n",
       "  </thead>\n",
       "  <tbody>\n",
       "    <tr>\n",
       "      <th>15</th>\n",
       "      <td>JUST</td>\n",
       "      <td>Jul-05-18</td>\n",
       "      <td>05:47PM</td>\n",
       "      <td>5 Successful New ETFs of Q2</td>\n",
       "    </tr>\n",
       "    <tr>\n",
       "      <th>5</th>\n",
       "      <td>JUST</td>\n",
       "      <td>Jan-29-19</td>\n",
       "      <td>04:07PM</td>\n",
       "      <td>When stock markets turned turbulent, ESG funds punched above their weight</td>\n",
       "    </tr>\n",
       "    <tr>\n",
       "      <th>9</th>\n",
       "      <td>JUST</td>\n",
       "      <td>Nov-16-18</td>\n",
       "      <td>09:23PM</td>\n",
       "      <td>A Better Approach to ESG?</td>\n",
       "    </tr>\n",
       "    <tr>\n",
       "      <th>17</th>\n",
       "      <td>JUST</td>\n",
       "      <td>Jun-14-18</td>\n",
       "      <td>10:27AM</td>\n",
       "      <td>Goldman, Tudor Jones Team Up On Socially Responsible ETF</td>\n",
       "    </tr>\n",
       "    <tr>\n",
       "      <th>8</th>\n",
       "      <td>JUST</td>\n",
       "      <td>Dec-10-18</td>\n",
       "      <td>10:31AM</td>\n",
       "      <td>Medtronic Named One of America's Best Corporate Citizens in 2018 by Forbes Magazine</td>\n",
       "    </tr>\n",
       "  </tbody>\n",
       "</table>\n",
       "</div>"
      ],
      "text/plain": [
       "   ticker       date     time  \\\n",
       "15   JUST  Jul-05-18  05:47PM   \n",
       "5    JUST  Jan-29-19  04:07PM   \n",
       "9    JUST  Nov-16-18  09:23PM   \n",
       "17   JUST  Jun-14-18  10:27AM   \n",
       "8    JUST  Dec-10-18  10:31AM   \n",
       "\n",
       "                                                                               headline  \n",
       "15                                                          5 Successful New ETFs of Q2  \n",
       "5             When stock markets turned turbulent, ESG funds punched above their weight  \n",
       "9                                                             A Better Approach to ESG?  \n",
       "17                             Goldman, Tudor Jones Team Up On Socially Responsible ETF  \n",
       "8   Medtronic Named One of America's Best Corporate Citizens in 2018 by Forbes Magazine  "
      ]
     },
     "execution_count": 18,
     "metadata": {},
     "output_type": "execute_result"
    }
   ],
   "source": [
    "parsed_news = []\n",
    "\n",
    "# Iterate through the news\n",
    "for file_name, news_table in news_tables.items():\n",
    "    # Iterate through all tr tags in 'news_table'\n",
    "    if news_table.findAll('tr'):\n",
    "        for x in news_table.findAll('tr'):\n",
    "            # read the text from each tr tag into text\n",
    "            # get text from a only\n",
    "            text = x.a.get_text() \n",
    "            # splite text in the td tag into a list \n",
    "            date_scrape = x.td.text.split()\n",
    "            # if the length of 'date_scrape' is 1, load 'time' as the only element\n",
    "\n",
    "            if len(date_scrape) == 1:\n",
    "                time = date_scrape[0]\n",
    "\n",
    "            # else load 'date' as the 1st element and 'time' as the second    \n",
    "            else:\n",
    "                date = date_scrape[0]\n",
    "                time = date_scrape[1]\n",
    "            # Extract the ticker from the file name, get the string up to the 1st '_'  \n",
    "            ticker = file_name.split('_')[0]\n",
    "\n",
    "            # Append ticker, date, time and headline as a list to the 'parsed_news' list\n",
    "            parsed_news.append([ticker, date, time, text])\n",
    "\n",
    "# Set column names\n",
    "columns = ['ticker', 'date', 'time', 'headline']\n",
    "\n",
    "# Convert the parsed_news list into a DataFrame called 'parsed_and_scored_news'\n",
    "parsed_and_scored_news = pd.DataFrame(parsed_news, columns=columns)\n",
    "parsed_and_scored_news.sample(5)"
   ]
  },
  {
   "cell_type": "code",
   "execution_count": 19,
   "metadata": {},
   "outputs": [
    {
     "data": {
      "text/html": [
       "<div>\n",
       "<style scoped>\n",
       "    .dataframe tbody tr th:only-of-type {\n",
       "        vertical-align: middle;\n",
       "    }\n",
       "\n",
       "    .dataframe tbody tr th {\n",
       "        vertical-align: top;\n",
       "    }\n",
       "\n",
       "    .dataframe thead th {\n",
       "        text-align: right;\n",
       "    }\n",
       "</style>\n",
       "<table border=\"1\" class=\"dataframe\">\n",
       "  <thead>\n",
       "    <tr style=\"text-align: right;\">\n",
       "      <th></th>\n",
       "      <th>ticker</th>\n",
       "      <th>date</th>\n",
       "      <th>time</th>\n",
       "      <th>headline</th>\n",
       "      <th>neg</th>\n",
       "      <th>neu</th>\n",
       "      <th>pos</th>\n",
       "      <th>compound</th>\n",
       "    </tr>\n",
       "  </thead>\n",
       "  <tbody>\n",
       "    <tr>\n",
       "      <th>17</th>\n",
       "      <td>JUST</td>\n",
       "      <td>2018-06-14</td>\n",
       "      <td>10:27AM</td>\n",
       "      <td>Goldman, Tudor Jones Team Up On Socially Responsible ETF</td>\n",
       "      <td>0.0</td>\n",
       "      <td>0.777</td>\n",
       "      <td>0.223</td>\n",
       "      <td>0.3182</td>\n",
       "    </tr>\n",
       "    <tr>\n",
       "      <th>10</th>\n",
       "      <td>JUST</td>\n",
       "      <td>2018-10-30</td>\n",
       "      <td>04:55PM</td>\n",
       "      <td>An ETF That Has Americas Values in Mind Can Also Outperform</td>\n",
       "      <td>0.0</td>\n",
       "      <td>0.787</td>\n",
       "      <td>0.213</td>\n",
       "      <td>0.4019</td>\n",
       "    </tr>\n",
       "    <tr>\n",
       "      <th>12</th>\n",
       "      <td>JUST</td>\n",
       "      <td>2018-09-18</td>\n",
       "      <td>04:58PM</td>\n",
       "      <td>Goldman Launches Smart Beta ETFs at Discount Prices</td>\n",
       "      <td>0.0</td>\n",
       "      <td>0.722</td>\n",
       "      <td>0.278</td>\n",
       "      <td>0.4019</td>\n",
       "    </tr>\n",
       "    <tr>\n",
       "      <th>6</th>\n",
       "      <td>JUST</td>\n",
       "      <td>2018-12-10</td>\n",
       "      <td>04:51PM</td>\n",
       "      <td>An ETF to Capitalize on Companies that Prioritize American Workers</td>\n",
       "      <td>0.0</td>\n",
       "      <td>1.000</td>\n",
       "      <td>0.000</td>\n",
       "      <td>0.0000</td>\n",
       "    </tr>\n",
       "    <tr>\n",
       "      <th>11</th>\n",
       "      <td>JUST</td>\n",
       "      <td>2018-10-08</td>\n",
       "      <td>09:04AM</td>\n",
       "      <td>This is one way Donald Trump has been good for the environment</td>\n",
       "      <td>0.0</td>\n",
       "      <td>0.791</td>\n",
       "      <td>0.209</td>\n",
       "      <td>0.4404</td>\n",
       "    </tr>\n",
       "  </tbody>\n",
       "</table>\n",
       "</div>"
      ],
      "text/plain": [
       "   ticker        date     time  \\\n",
       "17   JUST  2018-06-14  10:27AM   \n",
       "10   JUST  2018-10-30  04:55PM   \n",
       "12   JUST  2018-09-18  04:58PM   \n",
       "6    JUST  2018-12-10  04:51PM   \n",
       "11   JUST  2018-10-08  09:04AM   \n",
       "\n",
       "                                                              headline  neg  \\\n",
       "17            Goldman, Tudor Jones Team Up On Socially Responsible ETF  0.0   \n",
       "10         An ETF That Has Americas Values in Mind Can Also Outperform  0.0   \n",
       "12                 Goldman Launches Smart Beta ETFs at Discount Prices  0.0   \n",
       "6   An ETF to Capitalize on Companies that Prioritize American Workers  0.0   \n",
       "11      This is one way Donald Trump has been good for the environment  0.0   \n",
       "\n",
       "      neu    pos  compound  \n",
       "17  0.777  0.223    0.3182  \n",
       "10  0.787  0.213    0.4019  \n",
       "12  0.722  0.278    0.4019  \n",
       "6   1.000  0.000    0.0000  \n",
       "11  0.791  0.209    0.4404  "
      ]
     },
     "execution_count": 19,
     "metadata": {},
     "output_type": "execute_result"
    }
   ],
   "source": [
    "# Instantiate the sentiment intensity analyzer\n",
    "vader = SentimentIntensityAnalyzer()\n",
    "\n",
    "# Iterate through the headlines and get the polarity scores using vader\n",
    "scores = parsed_and_scored_news['headline'].apply(vader.polarity_scores).tolist()\n",
    "\n",
    "# Convert the 'scores' list of dicts into a DataFrame\n",
    "scores_df = pd.DataFrame(scores)\n",
    "\n",
    "# Join the DataFrames of the news and the list of dicts\n",
    "parsed_and_scored_news = parsed_and_scored_news.join(scores_df, rsuffix='_right')\n",
    "\n",
    "# Convert the date column from string to datetime\n",
    "parsed_and_scored_news['date'] = pd.to_datetime(parsed_and_scored_news.date).dt.date\n",
    "\n",
    "parsed_and_scored_news.sample(5)"
   ]
  },
  {
   "cell_type": "code",
   "execution_count": 31,
   "metadata": {},
   "outputs": [
    {
     "name": "stdout",
     "output_type": "stream",
     "text": [
      "Enter Date (YYYY-MM-DD): 2018-10-08\n"
     ]
    }
   ],
   "source": [
    "# Set the index to ticker and date\n",
    "single_day = parsed_and_scored_news.set_index(['ticker', 'date'])\n",
    "# Cross-section the tsla row\n",
    "single_day = single_day.xs(parsed_and_scored_news['ticker'][0])\n",
    "# Select the 3rd of January of 2019\n",
    "DATE=str(input(\"Enter Date (YYYY-MM-DD): \"))\n",
    "if single_day.loc[DATE].shape[0]==0:\n",
    "    print('Last headline date: ',max(single_day.index).date())\n",
    "else:\n",
    "    single_day = single_day.loc[DATE]\n",
    "    # Convert the datetime string to just the time\n",
    "    single_day['time'] = pd.to_datetime(single_day['time']).dt.time\n",
    "    # Set the index to time and sort by it\n",
    "    single_day = single_day.set_index('time')\n",
    "    # Sort it\n",
    "    single_day = single_day.sort_index()\n"
   ]
  },
  {
   "cell_type": "code",
   "execution_count": 32,
   "metadata": {},
   "outputs": [
    {
     "data": {
      "text/html": [
       "<div>\n",
       "<style scoped>\n",
       "    .dataframe tbody tr th:only-of-type {\n",
       "        vertical-align: middle;\n",
       "    }\n",
       "\n",
       "    .dataframe tbody tr th {\n",
       "        vertical-align: top;\n",
       "    }\n",
       "\n",
       "    .dataframe thead th {\n",
       "        text-align: right;\n",
       "    }\n",
       "</style>\n",
       "<table border=\"1\" class=\"dataframe\">\n",
       "  <thead>\n",
       "    <tr style=\"text-align: right;\">\n",
       "      <th></th>\n",
       "      <th>headline</th>\n",
       "      <th>neg</th>\n",
       "      <th>neu</th>\n",
       "      <th>pos</th>\n",
       "      <th>compound</th>\n",
       "    </tr>\n",
       "    <tr>\n",
       "      <th>time</th>\n",
       "      <th></th>\n",
       "      <th></th>\n",
       "      <th></th>\n",
       "      <th></th>\n",
       "      <th></th>\n",
       "    </tr>\n",
       "  </thead>\n",
       "  <tbody>\n",
       "    <tr>\n",
       "      <th>09:04:00</th>\n",
       "      <td>This is one way Donald Trump has been good for the environment</td>\n",
       "      <td>0.0</td>\n",
       "      <td>0.791</td>\n",
       "      <td>0.209</td>\n",
       "      <td>0.4404</td>\n",
       "    </tr>\n",
       "  </tbody>\n",
       "</table>\n",
       "</div>"
      ],
      "text/plain": [
       "                                                                headline  neg  \\\n",
       "time                                                                            \n",
       "09:04:00  This is one way Donald Trump has been good for the environment  0.0   \n",
       "\n",
       "            neu    pos  compound  \n",
       "time                              \n",
       "09:04:00  0.791  0.209    0.4404  "
      ]
     },
     "execution_count": 32,
     "metadata": {},
     "output_type": "execute_result"
    }
   ],
   "source": [
    "single_day"
   ]
  },
  {
   "cell_type": "code",
   "execution_count": 33,
   "metadata": {},
   "outputs": [
    {
     "data": {
      "image/png": "[encoded data removed]",
      "text/plain": [
       "<Figure size 720x432 with 1 Axes>"
      ]
     },
     "metadata": {
      "needs_background": "light"
     },
     "output_type": "display_data"
    }
   ],
   "source": [
    "TITLE = \"Negative, neutral, and positive sentiment on \"+DATE\n",
    "COLORS = [\"red\",\"orange\", \"green\"]\n",
    "# Drop the columns that aren't useful for the plot\n",
    "plot_day = single_day.drop(['compound', 'headline'], 1)\n",
    "# Change the column names to 'negative', 'positive', and 'neutral'\n",
    "plot_day.columns = ['negative', 'neutral', 'positive']\n",
    "# Plot a stacked bar chart\n",
    "plot_day.plot.bar(stacked = True, figsize=(10, 6), title = TITLE, color = COLORS).legend(bbox_to_anchor=(1.2, 0.5))\n",
    "plt.ylabel(\"scores\");"
   ]
  },
  {
   "cell_type": "code",
   "execution_count": null,
   "metadata": {},
   "outputs": [],
   "source": []
  }
 ],
 "metadata": {
  "kernelspec": {
   "display_name": "Python 3",
   "language": "python",
   "name": "python3"
  },
  "language_info": {
   "codemirror_mode": {
    "name": "ipython",
    "version": 3
   },
   "file_extension": ".py",
   "mimetype": "text/x-python",
   "name": "python",
   "nbconvert_exporter": "python",
   "pygments_lexer": "ipython3",
   "version": "3.8.5"
  }
 },
 "nbformat": 4,
 "nbformat_minor": 4
}
