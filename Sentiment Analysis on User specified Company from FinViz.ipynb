{
 "cells": [
  {
   "cell_type": "code",
   "execution_count": 25,
   "metadata": {},
   "outputs": [],
   "source": [
    "# Import libraries\n",
    "from urllib.request import urlopen, Request\n",
    "from bs4 import BeautifulSoup\n",
    "import os\n",
    "import pandas as pd\n",
    "pd.set_option('display.max_colwidth',1000)\n",
    "import matplotlib.pyplot as plt\n",
    "%matplotlib inline\n",
    "# NLTK VADER for sentiment analysis\n",
    "from nltk.sentiment.vader import SentimentIntensityAnalyzer\n",
    "\n",
    "from html_table_parser.parser import HTMLTableParser"
   ]
  },
  {
   "cell_type": "code",
   "execution_count": 2,
   "metadata": {},
   "outputs": [],
   "source": [
    "finwiz_url = 'https://finviz.com/quote.ashx?t='\n",
    "finwiz_search_url = 'https://finviz.com/search.ashx?p='"
   ]
  },
  {
   "cell_type": "markdown",
   "metadata": {},
   "source": [
    "# Search for the company's ticker"
   ]
  },
 
  {
   "cell_type": "code",
   "execution_count": 43,
   "metadata": {},
   "outputs": [
    {
     "name": "stdout",
     "output_type": "stream",
     "text": [
      "===============================================================\n",
      "Enter company name: goldman\n",
      "https://finviz.com/search.ashx?p=GOLDMAN\n",
      "===============================================================\n",
      "===============================================================\n",
      "Search Results for goldman:\n",
      "\n",
      "   Ticker                                               Description\n",
      "1    AAAU                           Goldman Sachs Physical Gold ETF\n",
      "2    GBIL                Goldman Sachs Access Treasury 0-1 Year ETF\n",
      "3    GCOR              Goldman Sachs Access U.S. Aggregate Bond ETF\n",
      "4     GEM      Goldman Sachs ActiveBeta Emerging Markets Equity ETF\n",
      "5     GER             Goldman Sachs MLP and Energy Renaissance Fund\n",
      "6    GHYB        Goldman Sachs Access High Yield Corporate Bond ETF\n",
      "7    GIGB  Goldman Sachs Access Investment Grade Corporate Bond ETF\n",
      "8    GINN                         Goldman Sachs Innovate Equity ETF\n",
      "9      GS                             The Goldman Sachs Group, Inc.\n",
      "10   GSBD                                   Goldman Sachs BDC, Inc.\n",
      "11   GSEU                Goldman Sachs ActiveBeta Europe Equity ETF\n",
      "12   GSEW      Goldman Sachs Equal Weight U.S. Large Cap Equity ETF\n",
      "13   GSIE         Goldman Sachs ActiveBeta International Equity ETF\n",
      "14   GSJY                 Goldman Sachs ActiveBeta Japan Equity ETF\n",
      "15   GSLC        Goldman Sachs ActiveBeta U.S. Large Cap Equity ETF\n",
      "16   GSSC        Goldman Sachs ActiveBeta U.S. Small Cap Equity ETF\n",
      "17   GSST                 Goldman Sachs Access Ultra Short Bond ETF\n",
      "18   GTIP     Goldman Sachs Access Inflation Protected USD Bond ETF\n",
      "19   GVIP                      Goldman Sachs Hedge Industry VIP ETF\n",
      "20   JUST              Goldman Sachs JUST U.S. Large Cap Equity ETF\n",
      "===============================================================\n",
      "===============================================================\n",
      "Find company ticker\n",
      "===============================================================\n"
     ]
    }
   ],
   "source": [
    "print('===============================================================')\n",
    "search_term=str(input(\"Enter company name: \"))#'goldman'\n",
    "search_url=finwiz_search_url+search_term.upper()\n",
    "print(search_url)\n",
    "print('===============================================================')\n",
    "\n",
    "req = Request(url=search_url,headers={'user-agent': 'my-app/0.0.1'})\n",
    "f = urlopen(req)\n",
    "xhtml = f.read().decode('utf-8')\n",
    "\n",
    "p = HTMLTableParser()\n",
    "p.feed(xhtml)\n",
    "df=pd.DataFrame(p.tables[5])\n",
    "df=df.rename(columns=df.iloc[0])[1:][['Ticker','Description']]\n",
    "print('===============================================================')\n",
    "print(\"Search Results for {}:\\n\".format(search_term))\n",
    "print(df)\n",
    "print('===============================================================')\n",
    "print('===============================================================')\n",
    "print(\"Find company ticker\")\n",
    "print('===============================================================')"
   ]
  },
  {
   "cell_type": "code",
   "execution_count": 61,
   "metadata": {},
   "outputs": [
    {
     "name": "stdout",
     "output_type": "stream",
     "text": [
      "===============================================================\n",
      "Enter company ticker: aau\n",
      "===============================================================\n"
     ]
    }
   ],
   "source": [
    "tickers=[]\n",
    "print('===============================================================')\n",
    "ticker=str(input(\"Enter company ticker: \")).upper()\n",
    "print('===============================================================')\n",
    "tickers.append(ticker)"
   ]
  },
  {
   "cell_type": "markdown",
   "metadata": {},
   "source": [
    "# Start Sentiment Analysis"
   ]
  },
  {
   "cell_type": "code",
   "execution_count": 62,
   "metadata": {},
   "outputs": [],
   "source": [
    "news_tables = {}\n",
    "\n",
    "for ticker in tickers:\n",
    "    url = finwiz_url + ticker\n",
    "#     print(url)\n",
    "    req = Request(url=url,headers={'user-agent': 'my-app/0.0.1'}) \n",
    "    response = urlopen(req)    \n",
    "    # Read the contents of the file into 'html'\n",
    "    html = BeautifulSoup(response)\n",
    "    # Find 'news-table' in the Soup and load it into 'news_table'\n",
    "    news_table = html.find(id='news-table')\n",
    "    # Add the table to our dictionary\n",
    "    news_tables[ticker] = news_table"
   ]
  },
  {
   "cell_type": "code",
   "execution_count": 63,
   "metadata": {},
   "outputs": [
    {
     "data": {
      "text/html": [
       "<div>\n",
       "<style scoped>\n",
       "    .dataframe tbody tr th:only-of-type {\n",
       "        vertical-align: middle;\n",
       "    }\n",
       "\n",
       "    .dataframe tbody tr th {\n",
       "        vertical-align: top;\n",
       "    }\n",
       "\n",
       "    .dataframe thead th {\n",
       "        text-align: right;\n",
       "    }\n",
       "</style>\n",
       "<table border=\"1\" class=\"dataframe\">\n",
       "  <thead>\n",
       "    <tr style=\"text-align: right;\">\n",
       "      <th></th>\n",
       "      <th>ticker</th>\n",
       "      <th>date</th>\n",
       "      <th>time</th>\n",
       "      <th>headline</th>\n",
       "    </tr>\n",
       "  </thead>\n",
       "  <tbody>\n",
       "    <tr>\n",
       "      <th>33</th>\n",
       "      <td>AAU</td>\n",
       "      <td>Mar-09-20</td>\n",
       "      <td>08:30AM</td>\n",
       "      <td>Almaden Announces Opening of Local Community Water Reservoir</td>\n",
       "    </tr>\n",
       "    <tr>\n",
       "      <th>79</th>\n",
       "      <td>AAU</td>\n",
       "      <td>Feb-07-17</td>\n",
       "      <td>04:30PM</td>\n",
       "      <td>Almaden Minerals Ltd. Announces Closing of $3.4 Million Non-Brokered Private Placement</td>\n",
       "    </tr>\n",
       "    <tr>\n",
       "      <th>19</th>\n",
       "      <td>AAU</td>\n",
       "      <td>Nov-25-20</td>\n",
       "      <td>04:05PM</td>\n",
       "      <td>Almaden Announces Pathfinder Elements Validate SE Alteration Zone Potential for Epithermal Veining</td>\n",
       "    </tr>\n",
       "    <tr>\n",
       "      <th>93</th>\n",
       "      <td>AAU</td>\n",
       "      <td>Aug-09-16</td>\n",
       "      <td>09:09AM</td>\n",
       "      <td>How Did Metals and Mining Companies Perform on August 8?</td>\n",
       "    </tr>\n",
       "    <tr>\n",
       "      <th>53</th>\n",
       "      <td>AAU</td>\n",
       "      <td>Jun-28-18</td>\n",
       "      <td>07:01PM</td>\n",
       "      <td>Almaden Announces Results of Annual General Meeting</td>\n",
       "    </tr>\n",
       "  </tbody>\n",
       "</table>\n",
       "</div>"
      ],
      "text/plain": [
       "   ticker       date     time  \\\n",
       "33    AAU  Mar-09-20  08:30AM   \n",
       "79    AAU  Feb-07-17  04:30PM   \n",
       "19    AAU  Nov-25-20  04:05PM   \n",
       "93    AAU  Aug-09-16  09:09AM   \n",
       "53    AAU  Jun-28-18  07:01PM   \n",
       "\n",
       "                                                                                              headline  \n",
       "33                                        Almaden Announces Opening of Local Community Water Reservoir  \n",
       "79              Almaden Minerals Ltd. Announces Closing of $3.4 Million Non-Brokered Private Placement  \n",
       "19  Almaden Announces Pathfinder Elements Validate SE Alteration Zone Potential for Epithermal Veining  \n",
       "93                                            How Did Metals and Mining Companies Perform on August 8?  \n",
       "53                                                 Almaden Announces Results of Annual General Meeting  "
      ]
     },
     "execution_count": 63,
     "metadata": {},
     "output_type": "execute_result"
    }
   ],
   "source": [
    "parsed_news = []\n",
    "\n",
    "# Iterate through the news\n",
    "for file_name, news_table in news_tables.items():\n",
    "    # Iterate through all tr tags in 'news_table'\n",
    "    for x in news_table.findAll('tr'):\n",
    "        # read the text from each tr tag into text\n",
    "        # get text from a only\n",
    "        text = x.a.get_text() \n",
    "        # splite text in the td tag into a list \n",
    "        date_scrape = x.td.text.split()\n",
    "        # if the length of 'date_scrape' is 1, load 'time' as the only element\n",
    "\n",
    "        if len(date_scrape) == 1:\n",
    "            time = date_scrape[0]\n",
    "            \n",
    "        # else load 'date' as the 1st element and 'time' as the second    \n",
    "        else:\n",
    "            date = date_scrape[0]\n",
    "            time = date_scrape[1]\n",
    "        # Extract the ticker from the file name, get the string up to the 1st '_'  \n",
    "        ticker = file_name.split('_')[0]\n",
    "        \n",
    "        # Append ticker, date, time and headline as a list to the 'parsed_news' list\n",
    "        parsed_news.append([ticker, date, time, text])\n",
    "\n",
    "# Set column names\n",
    "columns = ['ticker', 'date', 'time', 'headline']\n",
    "\n",
    "# Convert the parsed_news list into a DataFrame called 'parsed_and_scored_news'\n",
    "parsed_and_scored_news = pd.DataFrame(parsed_news, columns=columns)\n",
    "parsed_and_scored_news.sample(5)"
   ]
  },
  {
   "cell_type": "code",
   "execution_count": 64,
   "metadata": {},
   "outputs": [
    {
     "data": {
      "text/html": [
       "<div>\n",
       "<style scoped>\n",
       "    .dataframe tbody tr th:only-of-type {\n",
       "        vertical-align: middle;\n",
       "    }\n",
       "\n",
       "    .dataframe tbody tr th {\n",
       "        vertical-align: top;\n",
       "    }\n",
       "\n",
       "    .dataframe thead th {\n",
       "        text-align: right;\n",
       "    }\n",
       "</style>\n",
       "<table border=\"1\" class=\"dataframe\">\n",
       "  <thead>\n",
       "    <tr style=\"text-align: right;\">\n",
       "      <th></th>\n",
       "      <th>ticker</th>\n",
       "      <th>date</th>\n",
       "      <th>time</th>\n",
       "      <th>headline</th>\n",
       "      <th>neg</th>\n",
       "      <th>neu</th>\n",
       "      <th>pos</th>\n",
       "      <th>compound</th>\n",
       "    </tr>\n",
       "  </thead>\n",
       "  <tbody>\n",
       "    <tr>\n",
       "      <th>59</th>\n",
       "      <td>AAU</td>\n",
       "      <td>2018-03-05</td>\n",
       "      <td>08:00AM</td>\n",
       "      <td>Almaden Announces Elaine Ellingham Appointed to Board of Directors</td>\n",
       "      <td>0.000</td>\n",
       "      <td>1.000</td>\n",
       "      <td>0.000</td>\n",
       "      <td>0.0000</td>\n",
       "    </tr>\n",
       "    <tr>\n",
       "      <th>55</th>\n",
       "      <td>AAU</td>\n",
       "      <td>2018-05-31</td>\n",
       "      <td>04:01PM</td>\n",
       "      <td>Almaden Exploration Drilling Hits 26.00 Meters of 1.93 g/t Gold Including 1.00 m of 27.50 g/t Gold Approximately 1.2 km South West of PFS Pit at the Ixtaca Project Mexico</td>\n",
       "      <td>0.000</td>\n",
       "      <td>0.936</td>\n",
       "      <td>0.064</td>\n",
       "      <td>0.2263</td>\n",
       "    </tr>\n",
       "    <tr>\n",
       "      <th>17</th>\n",
       "      <td>AAU</td>\n",
       "      <td>2020-12-01</td>\n",
       "      <td>04:30PM</td>\n",
       "      <td>Court Confirms Almadens Original Ixtaca Claim Block</td>\n",
       "      <td>0.284</td>\n",
       "      <td>0.490</td>\n",
       "      <td>0.225</td>\n",
       "      <td>-0.1531</td>\n",
       "    </tr>\n",
       "    <tr>\n",
       "      <th>97</th>\n",
       "      <td>AAU</td>\n",
       "      <td>2016-06-13</td>\n",
       "      <td>04:05PM</td>\n",
       "      <td>Almaden Provides Ixtaca Project Update</td>\n",
       "      <td>0.000</td>\n",
       "      <td>1.000</td>\n",
       "      <td>0.000</td>\n",
       "      <td>0.0000</td>\n",
       "    </tr>\n",
       "    <tr>\n",
       "      <th>92</th>\n",
       "      <td>AAU</td>\n",
       "      <td>2016-08-10</td>\n",
       "      <td>08:30AM</td>\n",
       "      <td>Almaden Confirms High Grade Vein Zone Outside of Amended PEA Pit, Hits 1.0 Meter of 6.19 g/t Gold, 1250 g/t Silver Within Broad Zone of Veining Returning 70.43 Meters of 0.44 g/t Gold and 54 g/t Silver</td>\n",
       "      <td>0.000</td>\n",
       "      <td>1.000</td>\n",
       "      <td>0.000</td>\n",
       "      <td>0.0000</td>\n",
       "    </tr>\n",
       "  </tbody>\n",
       "</table>\n",
       "</div>"
      ],
      "text/plain": [
       "   ticker        date     time  \\\n",
       "59    AAU  2018-03-05  08:00AM   \n",
       "55    AAU  2018-05-31  04:01PM   \n",
       "17    AAU  2020-12-01  04:30PM   \n",
       "97    AAU  2016-06-13  04:05PM   \n",
       "92    AAU  2016-08-10  08:30AM   \n",
       "\n",
       "                                                                                                                                                                                                     headline  \\\n",
       "59                                                                                                                                         Almaden Announces Elaine Ellingham Appointed to Board of Directors   \n",
       "55                                 Almaden Exploration Drilling Hits 26.00 Meters of 1.93 g/t Gold Including 1.00 m of 27.50 g/t Gold Approximately 1.2 km South West of PFS Pit at the Ixtaca Project Mexico   \n",
       "17                                                                                                                                                        Court Confirms Almadens Original Ixtaca Claim Block   \n",
       "97                                                                                                                                                                     Almaden Provides Ixtaca Project Update   \n",
       "92  Almaden Confirms High Grade Vein Zone Outside of Amended PEA Pit, Hits 1.0 Meter of 6.19 g/t Gold, 1250 g/t Silver Within Broad Zone of Veining Returning 70.43 Meters of 0.44 g/t Gold and 54 g/t Silver   \n",
       "\n",
       "      neg    neu    pos  compound  \n",
       "59  0.000  1.000  0.000    0.0000  \n",
       "55  0.000  0.936  0.064    0.2263  \n",
       "17  0.284  0.490  0.225   -0.1531  \n",
       "97  0.000  1.000  0.000    0.0000  \n",
       "92  0.000  1.000  0.000    0.0000  "
      ]
     },
     "execution_count": 64,
     "metadata": {},
     "output_type": "execute_result"
    }
   ],
   "source": [
    "# Instantiate the sentiment intensity analyzer\n",
    "vader = SentimentIntensityAnalyzer()\n",
    "\n",
    "# Iterate through the headlines and get the polarity scores using vader\n",
    "scores = parsed_and_scored_news['headline'].apply(vader.polarity_scores).tolist()\n",
    "\n",
    "# Convert the 'scores' list of dicts into a DataFrame\n",
    "scores_df = pd.DataFrame(scores)\n",
    "\n",
    "# Join the DataFrames of the news and the list of dicts\n",
    "parsed_and_scored_news = parsed_and_scored_news.join(scores_df, rsuffix='_right')\n",
    "\n",
    "# Convert the date column from string to datetime\n",
    "parsed_and_scored_news['date'] = pd.to_datetime(parsed_and_scored_news.date).dt.date\n",
    "\n",
    "parsed_and_scored_news.sample(5)"
   ]
  },
  {
   "cell_type": "code",
   "execution_count": 67,
   "metadata": {},
   "outputs": [],
   "source": [
    "# Set the index to ticker and date\n",
    "single_day = parsed_and_scored_news.set_index(['ticker', 'date'])\n",
    "# Cross-section the tsla row\n",
    "single_day = single_day.xs('AAU')\n",
    "# Select the 3rd of January of 2019\n",
    "single_day = single_day.loc['2018-05-31']\n",
    "# Convert the datetime string to just the time\n",
    "single_day['time'] = pd.to_datetime(single_day['time']).dt.time\n",
    "# Set the index to time and sort by it\n",
    "single_day = single_day.set_index('time')\n",
    "# Sort it\n",
    "single_day = single_day.sort_index()"
   ]
  },
  {
   "cell_type": "code",
   "execution_count": 68,
   "metadata": {},
   "outputs": [
    {
     "data": {
      "text/html": [
       "<div>\n",
       "<style scoped>\n",
       "    .dataframe tbody tr th:only-of-type {\n",
       "        vertical-align: middle;\n",
       "    }\n",
       "\n",
       "    .dataframe tbody tr th {\n",
       "        vertical-align: top;\n",
       "    }\n",
       "\n",
       "    .dataframe thead th {\n",
       "        text-align: right;\n",
       "    }\n",
       "</style>\n",
       "<table border=\"1\" class=\"dataframe\">\n",
       "  <thead>\n",
       "    <tr style=\"text-align: right;\">\n",
       "      <th></th>\n",
       "      <th>headline</th>\n",
       "      <th>neg</th>\n",
       "      <th>neu</th>\n",
       "      <th>pos</th>\n",
       "      <th>compound</th>\n",
       "    </tr>\n",
       "    <tr>\n",
       "      <th>time</th>\n",
       "      <th></th>\n",
       "      <th></th>\n",
       "      <th></th>\n",
       "      <th></th>\n",
       "      <th></th>\n",
       "    </tr>\n",
       "  </thead>\n",
       "  <tbody>\n",
       "    <tr>\n",
       "      <th>16:01:00</th>\n",
       "      <td>Almaden Exploration Drilling Hits 26.00 Meters of 1.93 g/t Gold Including 1.00 m of 27.50 g/t Gold Approximately 1.2 km South West of PFS Pit at the Ixtaca Project Mexico</td>\n",
       "      <td>0.0</td>\n",
       "      <td>0.936</td>\n",
       "      <td>0.064</td>\n",
       "      <td>0.2263</td>\n",
       "    </tr>\n",
       "  </tbody>\n",
       "</table>\n",
       "</div>"
      ],
      "text/plain": [
       "                                                                                                                                                                            headline  \\\n",
       "time                                                                                                                                                                                   \n",
       "16:01:00  Almaden Exploration Drilling Hits 26.00 Meters of 1.93 g/t Gold Including 1.00 m of 27.50 g/t Gold Approximately 1.2 km South West of PFS Pit at the Ixtaca Project Mexico   \n",
       "\n",
       "          neg    neu    pos  compound  \n",
       "time                                   \n",
       "16:01:00  0.0  0.936  0.064    0.2263  "
      ]
     },
     "execution_count": 68,
     "metadata": {},
     "output_type": "execute_result"
    }
   ],
   "source": [
    "single_day"
   ]
  },
  {
   "cell_type": "code",
   "execution_count": 69,
   "metadata": {},
   "outputs": [
    {
     "data": {
      "image/png": "[encoded data removed]",
      "text/plain": [
       "<Figure size 720x432 with 1 Axes>"
      ]
     },
     "metadata": {
      "needs_background": "light"
     },
     "output_type": "display_data"
    }
   ],
   "source": [
    "TITLE = \"Negative, neutral, and positive sentiment on 2021-08-13\"\n",
    "COLORS = [\"red\",\"orange\", \"green\"]\n",
    "# Drop the columns that aren't useful for the plot\n",
    "plot_day = single_day.drop(['compound', 'headline'], 1)\n",
    "# Change the column names to 'negative', 'positive', and 'neutral'\n",
    "plot_day.columns = ['negative', 'neutral', 'positive']\n",
    "# Plot a stacked bar chart\n",
    "plot_day.plot.bar(stacked = True, figsize=(10, 6), title = TITLE, color = COLORS).legend(bbox_to_anchor=(1.2, 0.5))\n",
    "plt.ylabel(\"scores\");"
   ]
  },
  {
   "cell_type": "code",
   "execution_count": null,
   "metadata": {},
   "outputs": [],
   "source": []
  }
 ],
 "metadata": {
  "kernelspec": {
   "display_name": "Python 3",
   "language": "python",
   "name": "python3"
  },
  "language_info": {
   "codemirror_mode": {
    "name": "ipython",
    "version": 3
   },
   "file_extension": ".py",
   "mimetype": "text/x-python",
   "name": "python",
   "nbconvert_exporter": "python",
   "pygments_lexer": "ipython3",
   "version": "3.8.5"
  }
 },
 "nbformat": 4,
 "nbformat_minor": 4
}
